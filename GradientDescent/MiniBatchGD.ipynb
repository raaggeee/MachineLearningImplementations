{
 "cells": [
  {
   "cell_type": "code",
   "execution_count": 9,
   "id": "3723e30a",
   "metadata": {},
   "outputs": [],
   "source": [
    "import numpy as np\n",
    "import pandas as pd\n",
    "import matplotlib.pyplot as plt\n",
    "from sklearn.model_selection import train_test_split\n",
    "from sklearn.preprocessing import PolynomialFeatures\n",
    "from sklearn.metrics import r2_score"
   ]
  },
  {
   "cell_type": "code",
   "execution_count": 37,
   "id": "40e48df7",
   "metadata": {},
   "outputs": [],
   "source": [
    "class MiniBatchGD:\n",
    "    def __init__(self, learning_rate, epochs):\n",
    "        self.coef_ = None\n",
    "        self.intercept_ = None\n",
    "        self.lr = learning_rate\n",
    "        self.epochs = epochs\n",
    "\n",
    "    def fit(self, X_train, y_train):\n",
    "        self.coef_ = np.ones(X_train.shape[1])\n",
    "        self.intercept_ = 0\n",
    "\n",
    "        for _ in range(self.epochs):\n",
    "            indices = np.random.choice(X_train.shape[0], size=10, replace=False)\n",
    "            X_temp = X_train.iloc[indices, :]\n",
    "            y_temp = y_train.iloc[indices]\n",
    "\n",
    "            y_pred = np.dot(X_temp, self.coef_) + self.intercept_\n",
    "            delta_inter = (-2) * np.mean(y_temp - y_pred)\n",
    "            self.intercept_ = self.intercept_ - (self.lr * delta_inter)\n",
    "\n",
    "            delta_coef = (-2/X_temp.shape[1]) * np.dot(X_temp.T, (y_temp - y_pred))\n",
    "            self.coef_ = self.coef_ - (self.lr * delta_coef)\n",
    "\n",
    "        print(self.coef_, self.intercept_)\n",
    "\n",
    "    def predict(self, X_test):\n",
    "        return np.dot(X_test, self.coef_) + self.intercept_"
   ]
  },
  {
   "cell_type": "code",
   "execution_count": 38,
   "id": "d4f7dee6",
   "metadata": {},
   "outputs": [
    {
     "data": {
      "text/html": [
       "<div>\n",
       "<style scoped>\n",
       "    .dataframe tbody tr th:only-of-type {\n",
       "        vertical-align: middle;\n",
       "    }\n",
       "\n",
       "    .dataframe tbody tr th {\n",
       "        vertical-align: top;\n",
       "    }\n",
       "\n",
       "    .dataframe thead th {\n",
       "        text-align: right;\n",
       "    }\n",
       "</style>\n",
       "<table border=\"1\" class=\"dataframe\">\n",
       "  <thead>\n",
       "    <tr style=\"text-align: right;\">\n",
       "      <th></th>\n",
       "      <th>Square_Footage</th>\n",
       "      <th>Num_Bedrooms</th>\n",
       "      <th>Num_Bathrooms</th>\n",
       "      <th>Year_Built</th>\n",
       "      <th>Lot_Size</th>\n",
       "      <th>Garage_Size</th>\n",
       "      <th>Neighborhood_Quality</th>\n",
       "      <th>House_Price</th>\n",
       "    </tr>\n",
       "  </thead>\n",
       "  <tbody>\n",
       "    <tr>\n",
       "      <th>0</th>\n",
       "      <td>1360</td>\n",
       "      <td>2</td>\n",
       "      <td>1</td>\n",
       "      <td>1981</td>\n",
       "      <td>0.599637</td>\n",
       "      <td>0</td>\n",
       "      <td>5</td>\n",
       "      <td>2.623829e+05</td>\n",
       "    </tr>\n",
       "    <tr>\n",
       "      <th>1</th>\n",
       "      <td>4272</td>\n",
       "      <td>3</td>\n",
       "      <td>3</td>\n",
       "      <td>2016</td>\n",
       "      <td>4.753014</td>\n",
       "      <td>1</td>\n",
       "      <td>6</td>\n",
       "      <td>9.852609e+05</td>\n",
       "    </tr>\n",
       "    <tr>\n",
       "      <th>2</th>\n",
       "      <td>3592</td>\n",
       "      <td>1</td>\n",
       "      <td>2</td>\n",
       "      <td>2016</td>\n",
       "      <td>3.634823</td>\n",
       "      <td>0</td>\n",
       "      <td>9</td>\n",
       "      <td>7.779774e+05</td>\n",
       "    </tr>\n",
       "    <tr>\n",
       "      <th>3</th>\n",
       "      <td>966</td>\n",
       "      <td>1</td>\n",
       "      <td>2</td>\n",
       "      <td>1977</td>\n",
       "      <td>2.730667</td>\n",
       "      <td>1</td>\n",
       "      <td>8</td>\n",
       "      <td>2.296989e+05</td>\n",
       "    </tr>\n",
       "    <tr>\n",
       "      <th>4</th>\n",
       "      <td>4926</td>\n",
       "      <td>2</td>\n",
       "      <td>1</td>\n",
       "      <td>1993</td>\n",
       "      <td>4.699073</td>\n",
       "      <td>0</td>\n",
       "      <td>8</td>\n",
       "      <td>1.041741e+06</td>\n",
       "    </tr>\n",
       "  </tbody>\n",
       "</table>\n",
       "</div>"
      ],
      "text/plain": [
       "   Square_Footage  Num_Bedrooms  Num_Bathrooms  Year_Built  Lot_Size  \\\n",
       "0            1360             2              1        1981  0.599637   \n",
       "1            4272             3              3        2016  4.753014   \n",
       "2            3592             1              2        2016  3.634823   \n",
       "3             966             1              2        1977  2.730667   \n",
       "4            4926             2              1        1993  4.699073   \n",
       "\n",
       "   Garage_Size  Neighborhood_Quality   House_Price  \n",
       "0            0                     5  2.623829e+05  \n",
       "1            1                     6  9.852609e+05  \n",
       "2            0                     9  7.779774e+05  \n",
       "3            1                     8  2.296989e+05  \n",
       "4            0                     8  1.041741e+06  "
      ]
     },
     "execution_count": 38,
     "metadata": {},
     "output_type": "execute_result"
    }
   ],
   "source": [
    "df = pd.read_csv(\"/Users/raaggee/Documents/MachineLearningImplementations/house_price_regression_dataset.csv\")\n",
    "df.head()"
   ]
  },
  {
   "cell_type": "code",
   "execution_count": 39,
   "id": "f4e666c4",
   "metadata": {},
   "outputs": [
    {
     "data": {
      "text/html": [
       "<div>\n",
       "<style scoped>\n",
       "    .dataframe tbody tr th:only-of-type {\n",
       "        vertical-align: middle;\n",
       "    }\n",
       "\n",
       "    .dataframe tbody tr th {\n",
       "        vertical-align: top;\n",
       "    }\n",
       "\n",
       "    .dataframe thead th {\n",
       "        text-align: right;\n",
       "    }\n",
       "</style>\n",
       "<table border=\"1\" class=\"dataframe\">\n",
       "  <thead>\n",
       "    <tr style=\"text-align: right;\">\n",
       "      <th></th>\n",
       "      <th>Square_Footage</th>\n",
       "      <th>Num_Bedrooms</th>\n",
       "      <th>Num_Bathrooms</th>\n",
       "      <th>Lot_Size</th>\n",
       "      <th>Garage_Size</th>\n",
       "      <th>Neighborhood_Quality</th>\n",
       "      <th>House_Price</th>\n",
       "    </tr>\n",
       "  </thead>\n",
       "  <tbody>\n",
       "    <tr>\n",
       "      <th>0</th>\n",
       "      <td>1360</td>\n",
       "      <td>2</td>\n",
       "      <td>1</td>\n",
       "      <td>0.599637</td>\n",
       "      <td>0</td>\n",
       "      <td>5</td>\n",
       "      <td>2.623829e+05</td>\n",
       "    </tr>\n",
       "    <tr>\n",
       "      <th>1</th>\n",
       "      <td>4272</td>\n",
       "      <td>3</td>\n",
       "      <td>3</td>\n",
       "      <td>4.753014</td>\n",
       "      <td>1</td>\n",
       "      <td>6</td>\n",
       "      <td>9.852609e+05</td>\n",
       "    </tr>\n",
       "    <tr>\n",
       "      <th>2</th>\n",
       "      <td>3592</td>\n",
       "      <td>1</td>\n",
       "      <td>2</td>\n",
       "      <td>3.634823</td>\n",
       "      <td>0</td>\n",
       "      <td>9</td>\n",
       "      <td>7.779774e+05</td>\n",
       "    </tr>\n",
       "    <tr>\n",
       "      <th>3</th>\n",
       "      <td>966</td>\n",
       "      <td>1</td>\n",
       "      <td>2</td>\n",
       "      <td>2.730667</td>\n",
       "      <td>1</td>\n",
       "      <td>8</td>\n",
       "      <td>2.296989e+05</td>\n",
       "    </tr>\n",
       "    <tr>\n",
       "      <th>4</th>\n",
       "      <td>4926</td>\n",
       "      <td>2</td>\n",
       "      <td>1</td>\n",
       "      <td>4.699073</td>\n",
       "      <td>0</td>\n",
       "      <td>8</td>\n",
       "      <td>1.041741e+06</td>\n",
       "    </tr>\n",
       "  </tbody>\n",
       "</table>\n",
       "</div>"
      ],
      "text/plain": [
       "   Square_Footage  Num_Bedrooms  Num_Bathrooms  Lot_Size  Garage_Size  \\\n",
       "0            1360             2              1  0.599637            0   \n",
       "1            4272             3              3  4.753014            1   \n",
       "2            3592             1              2  3.634823            0   \n",
       "3             966             1              2  2.730667            1   \n",
       "4            4926             2              1  4.699073            0   \n",
       "\n",
       "   Neighborhood_Quality   House_Price  \n",
       "0                     5  2.623829e+05  \n",
       "1                     6  9.852609e+05  \n",
       "2                     9  7.779774e+05  \n",
       "3                     8  2.296989e+05  \n",
       "4                     8  1.041741e+06  "
      ]
     },
     "execution_count": 39,
     "metadata": {},
     "output_type": "execute_result"
    }
   ],
   "source": [
    "df = df.drop(\"Year_Built\", axis=1)\n",
    "df.head()"
   ]
  },
  {
   "cell_type": "code",
   "execution_count": 40,
   "id": "f210fd25",
   "metadata": {},
   "outputs": [],
   "source": [
    "X = df.iloc[:, :6]\n",
    "y = df[\"House_Price\"]"
   ]
  },
  {
   "cell_type": "code",
   "execution_count": 41,
   "id": "b9a81b6d",
   "metadata": {},
   "outputs": [],
   "source": [
    "n = X.shape[0]\n",
    "indices = np.random.choice(n, size=10, replace=True)\n",
    "X_train, X_test, y_train, y_test = train_test_split(X, y, test_size=0.2, random_state=42)"
   ]
  },
  {
   "cell_type": "code",
   "execution_count": 42,
   "id": "0552788f",
   "metadata": {},
   "outputs": [
    {
     "name": "stdout",
     "output_type": "stream",
     "text": [
      "[-1.33903330e+11 -1.28344076e+08 -1.04416888e+08 -1.23839913e+08\n",
      " -3.74239542e+07 -3.15836339e+08] -25681952.66806372\n"
     ]
    }
   ],
   "source": [
    "mgd = MiniBatchGD(0.001, 2)\n",
    "mgd.fit(X_train, y_train)"
   ]
  },
  {
   "cell_type": "code",
   "execution_count": 43,
   "id": "38467eb3",
   "metadata": {},
   "outputs": [
    {
     "data": {
      "text/plain": [
       "-2.660582552605969e+18"
      ]
     },
     "execution_count": 43,
     "metadata": {},
     "output_type": "execute_result"
    }
   ],
   "source": [
    "y_pred = mgd.predict(X_test)\n",
    "r2_score(y_test, y_pred)"
   ]
  },
  {
   "cell_type": "code",
   "execution_count": 44,
   "id": "57c1a040",
   "metadata": {},
   "outputs": [
    {
     "name": "stdout",
     "output_type": "stream",
     "text": [
      "(200, 6)\n",
      "(200,)\n"
     ]
    }
   ],
   "source": [
    "print(X_test.shape)\n",
    "print(y_test.shape)"
   ]
  },
  {
   "cell_type": "code",
   "execution_count": null,
   "id": "99e77152",
   "metadata": {},
   "outputs": [],
   "source": []
  },
  {
   "cell_type": "code",
   "execution_count": 10,
   "id": "70977495",
   "metadata": {},
   "outputs": [],
   "source": []
  },
  {
   "cell_type": "code",
   "execution_count": null,
   "id": "5c5477c0",
   "metadata": {},
   "outputs": [],
   "source": []
  }
 ],
 "metadata": {
  "kernelspec": {
   "display_name": "MachineLearningImplementations",
   "language": "python",
   "name": "python3"
  },
  "language_info": {
   "codemirror_mode": {
    "name": "ipython",
    "version": 3
   },
   "file_extension": ".py",
   "mimetype": "text/x-python",
   "name": "python",
   "nbconvert_exporter": "python",
   "pygments_lexer": "ipython3",
   "version": "3.13.3"
  }
 },
 "nbformat": 4,
 "nbformat_minor": 5
}
