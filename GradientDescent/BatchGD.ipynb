{
 "cells": [
  {
   "cell_type": "markdown",
   "id": "2f07a61e",
   "metadata": {},
   "source": [
    "# Batch Gradient Descent\n",
    "In batch gradient descent, we compute the gradient descent after making all the predictions.\n",
    "Here we are implementing batch gd over multi linear regression"
   ]
  },
  {
   "cell_type": "code",
   "execution_count": 157,
   "id": "d54b9ddd",
   "metadata": {},
   "outputs": [],
   "source": [
    "import numpy as np\n",
    "import matplotlib.pyplot as plt\n",
    "\n",
    "class BatchGD:\n",
    "    def __init__(self, epochs, learning_rate):\n",
    "        self.coef_ = None\n",
    "        self.intercept_ = None\n",
    "        self.epochs = epochs\n",
    "        self.lr = learning_rate\n",
    "        self.beta = None\n",
    "\n",
    "    def fit(self, X_train, y_train):\n",
    "        X_train = np.insert(X_train, 0, 1, axis=1)\n",
    "        self.beta = np.ones(shape=X_train.shape[1])\n",
    "        for i in range(self.epochs):\n",
    "            y_pred = np.dot(X_train, self.beta)\n",
    "            slope_beta = (-2/X_train.shape[0]) * np.dot(X_train.T, (y_train - y_pred))\n",
    "            self.beta = self.beta - (self.lr * slope_beta)\n",
    "\n",
    "        self.coef_ = self.beta[1:]\n",
    "        self.intercept_ = self.beta[0]\n",
    "\n",
    "        print(self.coef_, self.intercept_)\n",
    "\n",
    "    def predict(self, X_test):\n",
    "        self.coef_ = np.reshape(self.coef_, shape=(self.coef_.shape[0], 1))\n",
    "        return (np.dot(X_test, self.coef_) + self.intercept_)\n",
    "    \n",
    "    def plot_coef(self):\n",
    "        plt.plot(self.beta)\n",
    "        plt.show()\n",
    "\n",
    "\n"
   ]
  },
  {
   "cell_type": "code",
   "execution_count": 132,
   "id": "a7913b93",
   "metadata": {},
   "outputs": [
    {
     "data": {
      "text/html": [
       "<div>\n",
       "<style scoped>\n",
       "    .dataframe tbody tr th:only-of-type {\n",
       "        vertical-align: middle;\n",
       "    }\n",
       "\n",
       "    .dataframe tbody tr th {\n",
       "        vertical-align: top;\n",
       "    }\n",
       "\n",
       "    .dataframe thead th {\n",
       "        text-align: right;\n",
       "    }\n",
       "</style>\n",
       "<table border=\"1\" class=\"dataframe\">\n",
       "  <thead>\n",
       "    <tr style=\"text-align: right;\">\n",
       "      <th></th>\n",
       "      <th>Square_Footage</th>\n",
       "      <th>Num_Bedrooms</th>\n",
       "      <th>Num_Bathrooms</th>\n",
       "      <th>Year_Built</th>\n",
       "      <th>Lot_Size</th>\n",
       "      <th>Garage_Size</th>\n",
       "      <th>Neighborhood_Quality</th>\n",
       "      <th>House_Price</th>\n",
       "    </tr>\n",
       "  </thead>\n",
       "  <tbody>\n",
       "    <tr>\n",
       "      <th>0</th>\n",
       "      <td>1360</td>\n",
       "      <td>2</td>\n",
       "      <td>1</td>\n",
       "      <td>1981</td>\n",
       "      <td>0.599637</td>\n",
       "      <td>0</td>\n",
       "      <td>5</td>\n",
       "      <td>2.623829e+05</td>\n",
       "    </tr>\n",
       "    <tr>\n",
       "      <th>1</th>\n",
       "      <td>4272</td>\n",
       "      <td>3</td>\n",
       "      <td>3</td>\n",
       "      <td>2016</td>\n",
       "      <td>4.753014</td>\n",
       "      <td>1</td>\n",
       "      <td>6</td>\n",
       "      <td>9.852609e+05</td>\n",
       "    </tr>\n",
       "    <tr>\n",
       "      <th>2</th>\n",
       "      <td>3592</td>\n",
       "      <td>1</td>\n",
       "      <td>2</td>\n",
       "      <td>2016</td>\n",
       "      <td>3.634823</td>\n",
       "      <td>0</td>\n",
       "      <td>9</td>\n",
       "      <td>7.779774e+05</td>\n",
       "    </tr>\n",
       "    <tr>\n",
       "      <th>3</th>\n",
       "      <td>966</td>\n",
       "      <td>1</td>\n",
       "      <td>2</td>\n",
       "      <td>1977</td>\n",
       "      <td>2.730667</td>\n",
       "      <td>1</td>\n",
       "      <td>8</td>\n",
       "      <td>2.296989e+05</td>\n",
       "    </tr>\n",
       "    <tr>\n",
       "      <th>4</th>\n",
       "      <td>4926</td>\n",
       "      <td>2</td>\n",
       "      <td>1</td>\n",
       "      <td>1993</td>\n",
       "      <td>4.699073</td>\n",
       "      <td>0</td>\n",
       "      <td>8</td>\n",
       "      <td>1.041741e+06</td>\n",
       "    </tr>\n",
       "  </tbody>\n",
       "</table>\n",
       "</div>"
      ],
      "text/plain": [
       "   Square_Footage  Num_Bedrooms  Num_Bathrooms  Year_Built  Lot_Size  \\\n",
       "0            1360             2              1        1981  0.599637   \n",
       "1            4272             3              3        2016  4.753014   \n",
       "2            3592             1              2        2016  3.634823   \n",
       "3             966             1              2        1977  2.730667   \n",
       "4            4926             2              1        1993  4.699073   \n",
       "\n",
       "   Garage_Size  Neighborhood_Quality   House_Price  \n",
       "0            0                     5  2.623829e+05  \n",
       "1            1                     6  9.852609e+05  \n",
       "2            0                     9  7.779774e+05  \n",
       "3            1                     8  2.296989e+05  \n",
       "4            0                     8  1.041741e+06  "
      ]
     },
     "execution_count": 132,
     "metadata": {},
     "output_type": "execute_result"
    }
   ],
   "source": [
    "import pandas as pd\n",
    "from sklearn.model_selection import train_test_split\n",
    "df = pd.read_csv(\"/Users/raaggee/Documents/MachineLearningImplementations/house_price_regression_dataset.csv\")\n",
    "df.head()"
   ]
  },
  {
   "cell_type": "code",
   "execution_count": 111,
   "id": "7d18fcc3",
   "metadata": {},
   "outputs": [
    {
     "data": {
      "text/html": [
       "<div>\n",
       "<style scoped>\n",
       "    .dataframe tbody tr th:only-of-type {\n",
       "        vertical-align: middle;\n",
       "    }\n",
       "\n",
       "    .dataframe tbody tr th {\n",
       "        vertical-align: top;\n",
       "    }\n",
       "\n",
       "    .dataframe thead th {\n",
       "        text-align: right;\n",
       "    }\n",
       "</style>\n",
       "<table border=\"1\" class=\"dataframe\">\n",
       "  <thead>\n",
       "    <tr style=\"text-align: right;\">\n",
       "      <th></th>\n",
       "      <th>Square_Footage</th>\n",
       "      <th>Num_Bedrooms</th>\n",
       "      <th>Num_Bathrooms</th>\n",
       "      <th>Lot_Size</th>\n",
       "      <th>Garage_Size</th>\n",
       "      <th>Neighborhood_Quality</th>\n",
       "      <th>House_Price</th>\n",
       "    </tr>\n",
       "  </thead>\n",
       "  <tbody>\n",
       "    <tr>\n",
       "      <th>0</th>\n",
       "      <td>1360</td>\n",
       "      <td>2</td>\n",
       "      <td>1</td>\n",
       "      <td>0.599637</td>\n",
       "      <td>0</td>\n",
       "      <td>5</td>\n",
       "      <td>2.623829e+05</td>\n",
       "    </tr>\n",
       "    <tr>\n",
       "      <th>1</th>\n",
       "      <td>4272</td>\n",
       "      <td>3</td>\n",
       "      <td>3</td>\n",
       "      <td>4.753014</td>\n",
       "      <td>1</td>\n",
       "      <td>6</td>\n",
       "      <td>9.852609e+05</td>\n",
       "    </tr>\n",
       "    <tr>\n",
       "      <th>2</th>\n",
       "      <td>3592</td>\n",
       "      <td>1</td>\n",
       "      <td>2</td>\n",
       "      <td>3.634823</td>\n",
       "      <td>0</td>\n",
       "      <td>9</td>\n",
       "      <td>7.779774e+05</td>\n",
       "    </tr>\n",
       "    <tr>\n",
       "      <th>3</th>\n",
       "      <td>966</td>\n",
       "      <td>1</td>\n",
       "      <td>2</td>\n",
       "      <td>2.730667</td>\n",
       "      <td>1</td>\n",
       "      <td>8</td>\n",
       "      <td>2.296989e+05</td>\n",
       "    </tr>\n",
       "    <tr>\n",
       "      <th>4</th>\n",
       "      <td>4926</td>\n",
       "      <td>2</td>\n",
       "      <td>1</td>\n",
       "      <td>4.699073</td>\n",
       "      <td>0</td>\n",
       "      <td>8</td>\n",
       "      <td>1.041741e+06</td>\n",
       "    </tr>\n",
       "  </tbody>\n",
       "</table>\n",
       "</div>"
      ],
      "text/plain": [
       "   Square_Footage  Num_Bedrooms  Num_Bathrooms  Lot_Size  Garage_Size  \\\n",
       "0            1360             2              1  0.599637            0   \n",
       "1            4272             3              3  4.753014            1   \n",
       "2            3592             1              2  3.634823            0   \n",
       "3             966             1              2  2.730667            1   \n",
       "4            4926             2              1  4.699073            0   \n",
       "\n",
       "   Neighborhood_Quality   House_Price  \n",
       "0                     5  2.623829e+05  \n",
       "1                     6  9.852609e+05  \n",
       "2                     9  7.779774e+05  \n",
       "3                     8  2.296989e+05  \n",
       "4                     8  1.041741e+06  "
      ]
     },
     "execution_count": 111,
     "metadata": {},
     "output_type": "execute_result"
    }
   ],
   "source": [
    "df = df.drop(\"Year_Built\", axis=1)\n",
    "df.head()"
   ]
  },
  {
   "cell_type": "code",
   "execution_count": 112,
   "id": "0a19c331",
   "metadata": {},
   "outputs": [],
   "source": [
    "X = df.iloc[:, :6]\n",
    "y = df.iloc[:, -1]\n",
    "X_train, X_test, y_train, y_test = train_test_split(X, y, test_size=0.2, random_state=32)"
   ]
  },
  {
   "cell_type": "code",
   "execution_count": 174,
   "id": "0a1446a0",
   "metadata": {},
   "outputs": [
    {
     "name": "stdout",
     "output_type": "stream",
     "text": [
      "[-1.27425598e+55 -1.11437691e+52 -7.35058815e+51 -1.07624326e+52\n",
      " -3.95161515e+51 -2.12146224e+52] -3.7812969311453937e+51\n"
     ]
    }
   ],
   "source": [
    "bgd = BatchGD(10, 0.01)\n",
    "bgd.fit(X_train, y_train)"
   ]
  },
  {
   "cell_type": "code",
   "execution_count": 175,
   "id": "24868e69",
   "metadata": {},
   "outputs": [],
   "source": [
    "y_pred = bgd.predict(X_test)"
   ]
  },
  {
   "cell_type": "code",
   "execution_count": 176,
   "id": "137e4801",
   "metadata": {},
   "outputs": [
    {
     "name": "stdout",
     "output_type": "stream",
     "text": [
      "-2.462911271765757e+106\n",
      "3.9575900202551594e+58\n"
     ]
    }
   ],
   "source": [
    "from sklearn.metrics import r2_score, root_mean_squared_error\n",
    "print(r2_score(y_test, y_pred))\n",
    "print(root_mean_squared_error(y_test, y_pred))"
   ]
  },
  {
   "cell_type": "code",
   "execution_count": 177,
   "id": "982431a1",
   "metadata": {},
   "outputs": [
    {
     "data": {
      "image/png": "[encoded data removed]",
      "text/plain": [
       "<Figure size 640x480 with 1 Axes>"
      ]
     },
     "metadata": {},
     "output_type": "display_data"
    }
   ],
   "source": [
    "bgd.plot_coef()"
   ]
  },
  {
   "cell_type": "code",
   "execution_count": null,
   "id": "835926a9",
   "metadata": {},
   "outputs": [],
   "source": []
  }
 ],
 "metadata": {
  "kernelspec": {
   "display_name": "MachineLearningImplementations",
   "language": "python",
   "name": "python3"
  },
  "language_info": {
   "codemirror_mode": {
    "name": "ipython",
    "version": 3
   },
   "file_extension": ".py",
   "mimetype": "text/x-python",
   "name": "python",
   "nbconvert_exporter": "python",
   "pygments_lexer": "ipython3",
   "version": "3.13.3"
  }
 },
 "nbformat": 4,
 "nbformat_minor": 5
}
