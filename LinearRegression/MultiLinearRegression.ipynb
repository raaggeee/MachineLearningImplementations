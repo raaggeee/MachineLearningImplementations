{
 "cells": [
  {
   "cell_type": "markdown",
   "id": "baa9d553",
   "metadata": {},
   "source": [
    "# Multi Linear Regression\n",
    "We were using normal linear regression for 2-D data. But Multi Linear Regression is used for multiple dimensions of data"
   ]
  },
  {
   "cell_type": "markdown",
   "id": "aa209d7e",
   "metadata": {},
   "source": [
    "### Implementing direct method"
   ]
  },
  {
   "cell_type": "code",
   "execution_count": 1,
   "id": "c615fd42",
   "metadata": {},
   "outputs": [],
   "source": [
    "import numpy as np"
   ]
  },
  {
   "cell_type": "code",
   "execution_count": 3,
   "id": "97d4ef33",
   "metadata": {},
   "outputs": [],
   "source": [
    "class MultiLR:\n",
    "    def __init__(self, epochs):\n",
    "        self.epochs = epochs\n",
    "        self.coef_ = None\n",
    "        self.intercept_ = None\n",
    "\n",
    "    def fit(self, X_train, y_train):\n",
    "        X_train = np.insert(X_train, 0, 1, axis=1)\n",
    "        \n",
    "        beta = np.dot(np.dot(np.linalg.inv(np.dot(np.transpose(X_train), X_train)), np.transpose(X_train)), y_train)\n",
    "\n",
    "        self.coef_ = beta[1:]\n",
    "        self.intercept_ = beta[0]\n",
    "\n",
    "    def predict(self, X_train):\n",
    "        return np.dot(X_train, self.coef_) + self.intercept_"
   ]
  },
  {
   "cell_type": "code",
   "execution_count": null,
   "id": "eff5b62d",
   "metadata": {},
   "outputs": [],
   "source": []
  }
 ],
 "metadata": {
  "kernelspec": {
   "display_name": "MachineLearningImplementations",
   "language": "python",
   "name": "python3"
  },
  "language_info": {
   "codemirror_mode": {
    "name": "ipython",
    "version": 3
   },
   "file_extension": ".py",
   "mimetype": "text/x-python",
   "name": "python",
   "nbconvert_exporter": "python",
   "pygments_lexer": "ipython3",
   "version": "3.13.3"
  }
 },
 "nbformat": 4,
 "nbformat_minor": 5
}
