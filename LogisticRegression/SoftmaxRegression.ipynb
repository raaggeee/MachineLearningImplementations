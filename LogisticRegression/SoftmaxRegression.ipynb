{
 "cells": [
  {
   "cell_type": "markdown",
   "id": "d722138c",
   "metadata": {},
   "source": [
    "# Softmax Regression\n",
    "Softmax regression is used for multi class classification dataset. \n",
    "\\\n",
    "Why not logistic regression?\\\n",
    "We can find the prediction using logistic regression but there is a problem. We would have to make predictions for each and every class individually. Thus we use softmax regression. Here we perform OHE on the predictions and then compute the loss function which uses both rows and classes of each row."
   ]
  },
  {
   "cell_type": "code",
   "execution_count": null,
   "id": "47db8b00",
   "metadata": {},
   "outputs": [],
   "source": []
  }
 ],
 "metadata": {
  "kernelspec": {
   "display_name": "venv",
   "language": "python",
   "name": "python3"
  },
  "language_info": {
   "name": "python",
   "version": "3.13.3"
  }
 },
 "nbformat": 4,
 "nbformat_minor": 5
}
