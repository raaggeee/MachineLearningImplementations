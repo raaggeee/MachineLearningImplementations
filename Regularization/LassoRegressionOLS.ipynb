{
 "cells": [
  {
   "cell_type": "code",
   "execution_count": 1,
   "id": "3eec390c",
   "metadata": {},
   "outputs": [],
   "source": [
    "import numpy as np\n",
    "import matplotlib.pyplot as plt"
   ]
  },
  {
   "cell_type": "code",
   "execution_count": null,
   "id": "51f2208a",
   "metadata": {},
   "outputs": [],
   "source": [
    "class lassoRegression:\n",
    "    def __init__(self):\n",
    "        self.coef_ = None\n",
    "        self.intercept_ = None\n",
    "\n",
    "    def fit(self, X_train, y_train):\n",
    "        pass\n",
    "        \n",
    "\n",
    "    def predict(self, X_test):\n",
    "        pass\n",
    "\n",
    "## will implement later"
   ]
  }
 ],
 "metadata": {
  "kernelspec": {
   "display_name": "MachineLearningImplementations",
   "language": "python",
   "name": "python3"
  },
  "language_info": {
   "codemirror_mode": {
    "name": "ipython",
    "version": 3
   },
   "file_extension": ".py",
   "mimetype": "text/x-python",
   "name": "python",
   "nbconvert_exporter": "python",
   "pygments_lexer": "ipython3",
   "version": "3.13.3"
  }
 },
 "nbformat": 4,
 "nbformat_minor": 5
}
